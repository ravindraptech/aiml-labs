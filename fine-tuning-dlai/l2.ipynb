{
 "cells": [
  {
   "cell_type": "markdown",
   "id": "e74d0f54-54a3-4204-b011-b60225420829",
   "metadata": {},
   "source": [
    "# Finetuning data: compare to pretraining and basic preparation"
   ]
  },
  {
   "cell_type": "code",
   "execution_count": null,
   "id": "6491b736-1fc6-46a2-a9fb-fb337d762d3e",
   "metadata": {},
   "outputs": [],
   "source": [
    "import jsonlines\n",
    "import itertools\n",
    "import pandas as pd\n",
    "from pprint import pprint\n",
    "\n",
    "import datasets\n",
    "from datasets import load_dataset"
   ]
  }
 ],
 "metadata": {
  "kernelspec": {
   "display_name": "Python 3 (ipykernel)",
   "language": "python",
   "name": "python3"
  },
  "language_info": {
   "codemirror_mode": {
    "name": "ipython",
    "version": 3
   },
   "file_extension": ".py",
   "mimetype": "text/x-python",
   "name": "python",
   "nbconvert_exporter": "python",
   "pygments_lexer": "ipython3",
   "version": "3.8.10"
  }
 },
 "nbformat": 4,
 "nbformat_minor": 5
}
